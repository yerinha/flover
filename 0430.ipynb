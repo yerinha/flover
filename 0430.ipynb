{
  "nbformat": 4,
  "nbformat_minor": 0,
  "metadata": {
    "colab": {
      "provenance": [],
      "authorship_tag": "ABX9TyMGZeubb4oDi5RAhCMSM1JK",
      "include_colab_link": true
    },
    "kernelspec": {
      "name": "python3",
      "display_name": "Python 3"
    },
    "language_info": {
      "name": "python"
    }
  },
  "cells": [
    {
      "cell_type": "markdown",
      "metadata": {
        "id": "view-in-github",
        "colab_type": "text"
      },
      "source": [
        "<a href=\"https://colab.research.google.com/github/yerinha/flover/blob/main/0430.ipynb\" target=\"_parent\"><img src=\"https://colab.research.google.com/assets/colab-badge.svg\" alt=\"Open In Colab\"/></a>"
      ]
    },
    {
      "cell_type": "code",
      "execution_count": null,
      "metadata": {
        "id": "lAGwe6yybX97"
      },
      "outputs": [],
      "source": [
        "# prompt: 국어 = int(input(\"국어: \"))\n",
        "# 영어 = int(input(\"영어\" \"))\n",
        "\n",
        "국어 = int(input(\"국어: \"))\n",
        "영어 = int(input(\"영어: \"))\n",
        "\n",
        "print(\"국어:\", 국어)\n",
        "print(\"영어:\", 영어)\n"
      ]
    },
    {
      "cell_type": "code",
      "source": [
        "국어 = int(input(\"국어: \"))\n",
        "영어 = int(input(\"영어: \"))\n",
        "수학 = int(input(\"수학: \"))\n",
        "sum = 국어+영어+수학\n",
        "print(\"총점\",sum,\"평균 : %.2f\" %avg)"
      ],
      "metadata": {
        "colab": {
          "base_uri": "https://localhost:8080/"
        },
        "id": "toh-NIWbbzCP",
        "outputId": "cf754ce5-d13e-42aa-da15-889c17ed9d64"
      },
      "execution_count": 7,
      "outputs": [
        {
          "output_type": "stream",
          "name": "stdout",
          "text": [
            "국어: 84\n",
            "영어: 39\n",
            "수학: 75\n",
            "총점 198 평균 : 80.67\n"
          ]
        }
      ]
    },
    {
      "cell_type": "code",
      "source": [
        "국어 = int(input(\"국어: \"))\n",
        "영어 = int(input(\"영어: \"))\n",
        "수학 = int(input(\"수학: \"))\n",
        "sum = 국어+영어+수학\n",
        "avg = sum/3\n",
        "\n",
        "print(\"총점 : \",sum)\n",
        "print(\"평균 : %.2f\" %avg)"
      ],
      "metadata": {
        "colab": {
          "base_uri": "https://localhost:8080/"
        },
        "id": "HJbOIFhRc2wy",
        "outputId": "d6e981cc-9c8d-43f9-948c-bbde8fedf72d"
      },
      "execution_count": 5,
      "outputs": [
        {
          "output_type": "stream",
          "name": "stdout",
          "text": [
            "국어: 84\n",
            "영어: 65\n",
            "수학: 93\n",
            "총점 :  242\n",
            "평균 : 80.67\n"
          ]
        }
      ]
    }
  ]
}